{
 "cells": [
  {
   "cell_type": "code",
   "execution_count": null,
   "metadata": {},
   "outputs": [],
   "source": [
    "# Python-Version should be 3.10.12\n",
    "!python --version"
   ]
  },
  {
   "cell_type": "code",
   "execution_count": null,
   "metadata": {},
   "outputs": [],
   "source": [
    "!git clone https://github.com/bryanboateng/4d-gaussian-splatting.git"
   ]
  },
  {
   "cell_type": "code",
   "execution_count": null,
   "metadata": {},
   "outputs": [],
   "source": [
    "%cd /content/4d-gaussian-splatting/"
   ]
  },
  {
   "cell_type": "code",
   "execution_count": null,
   "metadata": {},
   "outputs": [],
   "source": [
    "!git submodule update --init --recursive"
   ]
  },
  {
   "cell_type": "code",
   "execution_count": null,
   "metadata": {},
   "outputs": [],
   "source": [
    "%pip install -r requirements.txt"
   ]
  },
  {
   "cell_type": "code",
   "execution_count": null,
   "metadata": {},
   "outputs": [],
   "source": [
    "rendered_sequence_directory_path = \"/content/drive/MyDrive/4d-gaussian-splatting/renders/snapshot_collections/\"\n",
    "experiment_id = \"foo\"\n",
    "sequence_name = \"basketball\""
   ]
  },
  {
   "cell_type": "code",
   "execution_count": null,
   "metadata": {},
   "outputs": [],
   "source": [
    "!python -m snapshot_collection.view \\\n",
    "  {experiment_id} \\\n",
    "  {sequence_name} \\\n",
    "  /content/drive/MyDrive/4d-gaussian-splatting/output/snapshot_collections/ \\\n",
    "  --rendered_sequence_directory_path {rendered_sequence_directory_path} \\\n",
    "  --image_width 1280 \\\n",
    "  --image_height 720 \\\n",
    "  --yaw_degrees_per_second 90"
   ]
  },
  {
   "cell_type": "code",
   "execution_count": null,
   "metadata": {},
   "outputs": [],
   "source": [
    "import os\n",
    "rendered_sequence_path = os.path.join(\n",
    "    rendered_sequence_directory_path,\n",
    "    experiment_id,\n",
    "    f\"{sequence_name}.mp4\",\n",
    ")\n",
    "from IPython.display import HTML\n",
    "from base64 import b64encode\n",
    "def display_video(video_path):\n",
    "  mp4 = open(video_path,'rb').read()\n",
    "  data_url = \"data:video/mp4;base64,\" + b64encode(mp4).decode()\n",
    "  return HTML(\"\"\"\n",
    "  <video width=1000 controls>\n",
    "    <source src=\"%s\" type=\"video/mp4\">\n",
    "  </video>\n",
    "  \"\"\" % data_url)\n",
    "display_video(rendered_sequence_path)"
   ]
  },
  {
   "cell_type": "code",
   "execution_count": null,
   "metadata": {},
   "outputs": [],
   "source": [
    "from google.colab import runtime\n",
    "\n",
    "runtime.unassign()"
   ]
  }
 ],
 "metadata": {
  "language_info": {
   "name": "python"
  }
 },
 "nbformat": 4,
 "nbformat_minor": 0
}
